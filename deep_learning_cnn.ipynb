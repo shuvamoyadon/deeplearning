{
  "nbformat": 4,
  "nbformat_minor": 0,
  "metadata": {
    "colab": {
      "provenance": []
    },
    "kernelspec": {
      "name": "python3",
      "display_name": "Python 3"
    },
    "language_info": {
      "name": "python"
    }
  },
  "cells": [
    {
      "cell_type": "markdown",
      "source": [
        "## Padding in CNN Image\n",
        "\n",
        "# **Concept:**\n",
        "Padding in deep learning refers to the technique of adding extra values (usually zeros) around the input data, typically an image or a matrix, before processing it through functions such as convolutional layers. This is done to adjust the dimensions of the input to ensure the output has a desired size, or to prevent the loss of edge information.\n",
        "\n",
        "\n",
        "\n",
        "# **The two primary types of padding are:**\n",
        "\n",
        "Valid Padding: No padding is applied. The output dimensions are reduced depending on the size of the kernel (filter) used in the convolutional layer. If the kernel does not fit into the input matrix, the areas where it doesn’t fit are simply ignored.\n",
        "\n",
        "Same Padding: Padding is added so that the output dimensions of the convolution are the same as the input dimensions. This is achieved by adding enough zeros around the edges of the input to allow the kernel to fit over every original pixel."
      ],
      "metadata": {
        "id": "xWS69k_B2FWi"
      }
    },
    {
      "cell_type": "code",
      "source": [
        "import tensorflow as tf\n",
        "\n",
        "# Create a simple 4x4 image (with one channel for simplicity)\n",
        "input_data = tf.random.normal([1, 4, 4, 1])\n",
        "\n",
        "# Define a convolutional layer with 'SAME' padding (output size matches input size)\n",
        "conv_layer_same = tf.keras.layers.Conv2D(filters=1, kernel_size=(3, 3), padding='same')\n",
        "output_same = conv_layer_same(input_data)\n",
        "\n",
        "# Define a convolutional layer with 'VALID' padding (no padding, reduced output size)\n",
        "conv_layer_valid = tf.keras.layers.Conv2D(filters=1, kernel_size=(3, 3), padding='valid')\n",
        "output_valid = conv_layer_valid(input_data)\n",
        "\n",
        "print(\"Input Shape:\", input_data.shape)\n",
        "print(\"Output Shape with SAME Padding:\", output_same.shape)\n",
        "print(\"Output Shape with VALID Padding:\", output_valid.shape)\n"
      ],
      "metadata": {
        "id": "jULGLVKl2Ely"
      },
      "execution_count": null,
      "outputs": []
    }
  ]
}